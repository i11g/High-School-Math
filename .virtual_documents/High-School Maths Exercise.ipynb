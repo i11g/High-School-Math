import sympy
import math
import cmath
import numpy as np
import matplotlib.pyplot as plt
from functools import reduce























sympy.init_printing()


x = sympy.symbols("x")
a, b, c = sympy.symbols("a b c")


quadratic_equation = a*x**2 + b*x + c


quadratic_equation


sympy.solve(quadratic_equation)





sympy.solve(quadratic_equation, x)





import math # Move this to the "imports" cell (the second one in this notebook)
def solve_quadratic_equation(a, b, c):
    """
    Returns the real solutions of the quadratic equation ax^2 + bx + c = 0
    """
    dicriminant_argument = b**2 - 4 * a * c
    if dicriminant_argument > 0:
        discriminant = math.sqrt(dicriminant_argument)
        x1 = (-b - discriminant) / (2*a)
        x2 = (-b + discriminant) / (2*a)
        return [x1, x2]
    elif dicriminant_argument == 0:
        x1 = -b / (2 * a)
        return [x1]
    else:
        return []


# Testing: Execute this cell. The outputs should match the expected outputs. Feel free to write more tests
print(solve_quadratic_equation(1, -1, -2)) # [-1.0, 2.0]
print(solve_quadratic_equation(1, -8, 16)) # [4.0]
print(solve_quadratic_equation(1, 1, 1)) # []





def solve_quadratic_equation_bonus(a, b, c):
    """
    Returns the real solutions of the quadratic equation ax^2 + bx + c = 0
    Also solve linear equations of type bx + c= 0 (i.e. , a = 0)
    """
    def solve_linear(b, c):
        
        if b == 0:
            return []            
        return [ -c / b ]
    
    if a == 0:
        return solve_linear(b, c)
    
    discriminant = b**2 - 4*a*c
    
    if discriminant > 0:
        root = math.sqrt(discriminant)
        x1 = (-b - root) / (2*a)
        x2 = (-b + root) / (2*a)
        return [x1, x2]
    elif discriminant == 0:
        x = -b / (2*a)
        return [x]
    else:
        return []


## Testing:
print(solve_quadratic_equation_bonus(1, -1, -2))
print(solve_quadratic_equation_bonus(1, -8, 16))
print(solve_quadratic_equation_bonus(1, 1, 1))
print(solve_quadratic_equation_bonus (0, 1, 5))


def solve_quadratic_equation_bonus2(a, b, c):
    """
    Returns the exact two solutions of the quadratic equation ax^2 + bx + c = 0
    Also solve linear equations of type bx + c= 0 (i.e. , a = 0)
    Show the two solutiions of every quadratic equation
    """
    def solve_linear_equation(b, c):
        if b == 0:
            return []
        return [-c / b]
    if a == 0:
        return solve_linear_equation(b, c)
    
    discriminant_argument = b**2 - 4 * a * c
    
    discriminant = cmath.sqrt(discriminant_argument)

    x1 = (-b - discriminant) / (2 * a)
    x2 = (-b + discriminant) / (2 * a)
    return [x1, x2]


print(solve_quadratic_equation_bonus2(1, -1, -2)) # [-1.0, 2.0]
print(solve_quadratic_equation_bonus2(1, -8, 16)) # [4.0]
print(solve_quadratic_equation_bonus2(1, 1, 1)) # []
print(solve_quadratic_equation_bonus2(0, 1, 5))





def fibonacci(n):
    """
    Create a Fibonachi function with n as a parameter 
    """
    if n <= 0:
        return []
    elif n == 1:
        return [0]
    fibs = [0, 1]
    while len(fibs) < n:
        fibs.append(fibs[-1] + fibs[-2])
    return fibs


fib_numbers = fibonacci(20)
print(fib_numbers)


square_fib_numbers = [x**2 for x in fib_numbers]
print(square_fib_numbers)


odd_numbers = [x for x in square_fib_numbers if x % 2 == 1]
print(odd_numbers)


sum_odd_squares = sum(odd_numbers)
print(sum_odd_squares)


sum_one_line = sum(x*x for x in __import__('functools').reduce(lambda L,_: L + [L[-1] + L[-2]], range(18), [0, 1]) if x % 2)
print(sum_one_line)

















# Write your code here. Of course, you may add more cells if needed.





# Write your code here





# Copy and edit your code here











def plot_math_function(f, min_x, max_x, num_points):
    # Write your code here
    pass


plot_math_function(lambda x: 2 * x + 3, -3, 5, 1000)
plot_math_function(lambda x: -x + 8, -1, 10, 1000)
plot_math_function(lambda x: x**2 - x - 2, -3, 4, 1000)
plot_math_function(lambda x: np.sin(x), -np.pi, np.pi, 1000)
plot_math_function(lambda x: np.sin(x) / x, -4 * np.pi, 4 * np.pi, 1000)





def plot_math_functions(functions, min_x, max_x, num_points):
    # Write your code here
    pass


plot_math_functions([lambda x: 2 * x + 3, lambda x: 0], -3, 5, 1000)
plot_math_functions([lambda x: 3 * x**2 - 2 * x + 5, lambda x: 3 * x + 7], -2, 3, 1000)





plot_math_functions([lambda x: (-4 * x + 7) / 3, lambda x: (-3 * x + 8) / 5, lambda x: (-x - 1) / -2], -1, 4, 1000)








# Write your code here



