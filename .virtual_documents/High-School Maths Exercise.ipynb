import sympy
import math
import cmath
import numpy as np
import matplotlib.pyplot as plt
from functools import reduce























sympy.init_printing()


x = sympy.symbols("x")
a, b, c = sympy.symbols("a b c")


quadratic_equation = a*x**2 + b*x + c


quadratic_equation


sympy.solve(quadratic_equation)





sympy.solve(quadratic_equation, x)





import math # Move this to the "imports" cell (the second one in this notebook)
def solve_quadratic_equation(a, b, c):
    """
    Returns the real solutions of the quadratic equation ax^2 + bx + c = 0
    """
    dicriminant_argument = b**2 - 4 * a * c
    if dicriminant_argument > 0:
        discriminant = math.sqrt(dicriminant_argument)
        x1 = (-b - discriminant) / (2*a)
        x2 = (-b + discriminant) / (2*a)
        return [x1, x2]
    elif dicriminant_argument == 0:
        x1 = -b / (2 * a)
        return [x1]
    else:
        return []


# Testing: Execute this cell. The outputs should match the expected outputs. Feel free to write more tests
print(solve_quadratic_equation(1, -1, -2)) # [-1.0, 2.0]
print(solve_quadratic_equation(1, -8, 16)) # [4.0]
print(solve_quadratic_equation(1, 1, 1)) # []





def solve_quadratic_equation_bonus(a, b, c):
    """
    Returns the real solutions of the quadratic equation ax^2 + bx + c = 0
    Also solve linear equations of type bx + c= 0 (i.e. , a = 0)
    """
    def solve_linear(b, c):
        
        if b == 0:
            return []            
        return [ -c / b ]
    
    if a == 0:
        return solve_linear(b, c)
    
    discriminant = b**2 - 4*a*c
    
    if discriminant > 0:
        root = math.sqrt(discriminant)
        x1 = (-b - root) / (2*a)
        x2 = (-b + root) / (2*a)
        return [x1, x2]
    elif discriminant == 0:
        x = -b / (2*a)
        return [x]
    else:
        return []


## Testing:
print(solve_quadratic_equation_bonus(1, -1, -2))
print(solve_quadratic_equation_bonus(1, -8, 16))
print(solve_quadratic_equation_bonus(1, 1, 1))
print(solve_quadratic_equation_bonus (0, 1, 5))


def solve_quadratic_equation_bonus2(a, b, c):
    """
    Returns the exact two solutions of the quadratic equation ax^2 + bx + c = 0
    Also solve linear equations of type bx + c= 0 (i.e. , a = 0)
    Show the two solutiions of every quadratic equation
    """
    def solve_linear_equation(b, c):
        if b == 0:
            return []
        return [-c / b]
    if a == 0:
        return solve_linear_equation(b, c)
    
    discriminant_argument = b**2 - 4 * a * c
    
    discriminant = cmath.sqrt(discriminant_argument)

    x1 = (-b - discriminant) / (2 * a)
    x2 = (-b + discriminant) / (2 * a)
    return [x1, x2]


print(solve_quadratic_equation_bonus2(1, -1, -2)) # [-1.0, 2.0]
print(solve_quadratic_equation_bonus2(1, -8, 16)) # [4.0]
print(solve_quadratic_equation_bonus2(1, 1, 1)) # []
print(solve_quadratic_equation_bonus2(0, 1, 5))





def fibonacci(n):
    """
    Create a Fibonachi function with n as a parameter 
    """
    if n <= 0:
        return []
    elif n == 1:
        return [0]
    fibs = [0, 1]
    while len(fibs) < n:
        fibs.append(fibs[-1] + fibs[-2])
    return fibs


fib_numbers = fibonacci(20)
print(fib_numbers)


square_fib_numbers = [x**2 for x in fib_numbers]
print(square_fib_numbers)


odd_numbers = [x for x in square_fib_numbers if x % 2 == 1]
print(odd_numbers)


sum_odd_squares = sum(odd_numbers)
print(sum_odd_squares)


sum_one_line = sum(x*x for x in __import__('functools').reduce(lambda L,_: L + [L[-1] + L[-2]], range(18), [0, 1]) if x % 2)
print(sum_one_line)


def fib(n):
    """
    Generate the first n Fibonacci numbers as a list using Python buitlins reduce function
    """
    if n <= 0:
        return []
    if n == 1:
        return [0]
    # Start with [0, 1] and then build up to n items
    return reduce(lambda acc, _: acc + [acc[-1] + acc[-2]], range(n - 2), [0, 1])


n = 20
fibs = fib(n)
print("Fibonacci numbers:", fibs)


squares = list(map(lambda x: x * x, fibs))
print("Squared:", squares)


odd_squares = list(filter(lambda x: x % 2 == 1, squares))
print("Odd squares:", odd_squares)


sum_odd_squares = reduce(lambda a, b: a + b, odd_squares, 0)
print("Sum of odd squares:", sum_odd_squares)








print("2^5 =", math.pow(2, 5))
print("10^4 =", math.pow(10, 4))
print("100^5=", math.pow(100, 5))





print("sqrt(255) =", math.sqrt(255))
print("sqrt(0) =", math.sqrt(0))
print("sqrt(500) =", math.sqrt(500))





print("log base 10 of 1000 =", math.log10(1000))
print("log base e (natural log) of e =", math.log(math.e))
print("log base 4 of 20 =", math.log(20, 4))





x = 5
y = 3
n = 4
base = 10
new_base = 2

results = {"Product Rule": math.isclose(math.log(x * y, base), math.log(x, base) + math.log(y, base)),
           "Quitent Rule": math.isclose(math.log(x/y, base), math.log(x, base) - math.log(y, base)),
           "Power Rule": math.isclose(math.log(x**n, base), n*math.log(x, base)),
           "Change of Base Rule": math.isclose(math.log(x, base), math.log(x, new_base) / math.log(base, new_base))}
results





x = np.linspace(-3, 5, 1000)
y = 2 * x + 3


plt.plot(x, y)
plt.show()





ax = plt.gca()
ax.spines["bottom"].set_position("zero")
ax.spines["left"].set_position("zero")
ax.spines["top"].set_visible(False)
ax.spines["right"].set_visible(False)
plt.plot(x, y)
plt.show()


plt.plot(x, y)
ax = plt.gca()
ax.spines["bottom"].set_position("zero")
ax.spines["left"].set_position("zero")
ax.spines["top"].set_visible(False)
ax.spines["right"].set_visible(False)
yticks = ax.get_yticks().tolist()
yticks = [t for t in yticks if t != 0]
ax.set_yticks(yticks)
plt.show()








a = 2.5
b = 0.5
x = np.linspace(0, 5, 100)
y = a*np.exp(b*x)
nat_log = np.log(y) 


plt.figure(figsize=(10, 5))

plt.subplot(1, 2, 1)
plt.plot(x, y, label=r'$y = ae^{bx}$')
plt.title('Original Exponential Function')
plt.xlabel('x')
plt.ylabel('y')
plt.plot(x, nat_log, 'orange', label=r'$\ln(y) = bx + \ln(a)$')
plt.title('Linearized Function')
plt.xlabel('x')
plt.ylabel('ln(y)')
plt.grid(True)
plt.legend()

plt.tight_layout()
plt.show()





def plot_math_function(f, min_x, max_x, num_points):
    x = np.linspace(min_x, max_x, num_points)
    y = f(x) 
    plt.plot(x, y)
    ax = plt.gca()
    ax.spines["bottom"].set_position("zero")
    ax.spines["left"].set_position("zero")
    ax.spines["top"].set_visible(False)
    ax.spines["right"].set_visible(False)
    yticks = ax.get_yticks().tolist()
    yticks = [t for t in yticks if t != 0]
    ax.set_yticks(yticks)
    plt.show()


plot_math_function(lambda x: 2 * x + 3, -3, 5, 1000)
plot_math_function(lambda x: -x + 8, -1, 10, 1000)
plot_math_function(lambda x: x**2 - x - 2, -3, 4, 1000)
plot_math_function(lambda x: np.sin(x), -np.pi, np.pi, 1000)
plot_math_function(lambda x: np.sin(x) / x, -4 * np.pi, 4 * np.pi, 1000)





def plot_math_functions(functions, min_x, max_x, num_points):
     x = np.linspace(min_x, max_x, num_points)
     vectorized_fs = [np.vectorize(f) for f in functions]
     ys = [vectorized_f(x) for vectorized_f in vectorized_fs]
     for y in ys:
        plt.plot(x, y) 
     plt.show()


plot_math_functions([lambda x: 2 * x + 3, lambda x: 0], -3, 5, 1000)
plot_math_functions([lambda x: 3 * x**2 - 2 * x + 5, lambda x: 3 * x + 7], -2, 3, 1000)





plot_math_functions([lambda x: (-4 * x + 7) / 3, lambda x: (-3 * x + 8) / 5, lambda x: (-x - 1) / -2], -1, 4, 1000)








x1 = np. linspace(-1, 1, 500)
y1 = np.arcsin(x1)
plt.figure()
plt.plot(x1, y1)
plt.xlabel("x")
plt.ylabel("arcsin(x)")
plt.title("arcsin(x)")
plt.grid(True)

x2 = np.linspace(-1, 1, 500)
y2 = np.arccos(x1)
plt.figure()
plt.plot(x2, y2)
plt.xlabel("x")
plt.ylabel("arccos")
plt.title("arccos(x)")
plt.grid()

x3 = np.linspace(-10, 10, 500)
y3 = np.arctan(x3)
plt.figure()
plt.plot(x3, y3)
plt.xlabel("x")
plt.ylabel("arctan(x)")
plt.title("arctan(x)")
plt.grid()
plt.show() 

x4 = np.linspace(-10, 10, 500)
y4 = np.pi/2 - np.arctan(x4)
plt.figure()
plt.plot(x4, y4)
plt.xlabel("x")
plt.ylabel("arccot(x)")
plt.title("arccot(x)")
plt.grid()



